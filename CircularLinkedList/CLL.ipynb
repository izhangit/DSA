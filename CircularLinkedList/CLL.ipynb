{
 "cells": [
  {
   "cell_type": "markdown",
   "id": "a978720c-5d47-4275-8646-d47bbf0a9a8e",
   "metadata": {},
   "source": [
    "# Circular Linked List"
   ]
  },
  {
   "cell_type": "markdown",
   "id": "cae9710d-88b6-4fb0-916e-763990f079cd",
   "metadata": {},
   "source": [
    "#### The circular linked list is a linked list where all nodes are connected to form a circle. In a circular linked list, the first node and the last node are connected to each other which forms a circle. There is no NULL at the end."
   ]
  },
  {
   "attachments": {
    "5cf605a4-1095-4fd1-a731-f43152a538ee.png": {
     "image/png": "[encoded data removed]"
    }
   },
   "cell_type": "markdown",
   "id": "b8580e78-179b-4b6d-b694-a6e10ee8d3f4",
   "metadata": {},
   "source": [
    "![CLL.png](attachment:5cf605a4-1095-4fd1-a731-f43152a538ee.png)"
   ]
  },
  {
   "cell_type": "code",
   "execution_count": 1,
   "id": "c62b3f55-d1f8-44fe-b5f5-e4c8611f7f09",
   "metadata": {},
   "outputs": [],
   "source": [
    "# Circular Linked List\n",
    "\n",
    "class Node:\n",
    "    def __init__(self,data):\n",
    "        self.data = data\n",
    "        self.next = None\n",
    "\n",
    "class CircularLinkedList:\n",
    "    def __init__(self):\n",
    "        self.head = None\n",
    "        self.tail = None\n",
    "\n",
    "# Insertion at Begin\n",
    "    def Insertion_at_Begin(self,data):\n",
    "        nb = Node(data)\n",
    "        # if self.head is None:\n",
    "        #     self.head = nb\n",
    "        #     self.tail = nb\n",
    "        #     self.tail.next = self.head\n",
    "        # else:\n",
    "        nb.next = self.head\n",
    "        self.tail.next = nb\n",
    "        self.head = nb\n",
    "\n",
    "# Insertion at End\n",
    "    def Insertion_at_End(self,data):\n",
    "        ne = Node(data)\n",
    "        self.tail.next = ne\n",
    "        self.tail = ne\n",
    "        self.tail.next = self.head \n",
    "\n",
    "# Insertion at Specific Position\n",
    "    def Insertion_at_Specific_postion(self,target_data,data):\n",
    "        np = Node(data)\n",
    "        temp = self.head \n",
    "        while temp.data != target_data:\n",
    "            temp = temp.next\n",
    "        np.next  = temp.next\n",
    "        temp.next = np\n",
    "\n",
    "# Deletion at begin\n",
    "    def Deletion_at_Begin(self):\n",
    "        temp = self.head\n",
    "        self.head = temp.next         \n",
    "        temp = None\n",
    "        self.tail.next  = self.head\n",
    "\n",
    "# Deletion at End\n",
    "    def Deletion_at_End(self):\n",
    "        temp = self.head \n",
    "        while temp.next is not self.tail:\n",
    "            temp = temp.next\n",
    "        temp.next = self.head\n",
    "        self.tail = None\n",
    "        self.tail = temp\n",
    "\n",
    "# Deletion at Specific Position\n",
    "    def Deletion_at_Specific_Position(self,data):\n",
    "        np = Node(data)\n",
    "        # temp1 = self.head \n",
    "        # temp2 = self.head.next\n",
    "        # while temp1.data != data:\n",
    "        #     temp1 = temp1.next\n",
    "        #     temp2 = temp2.next\n",
    "        # temp1.next = temp2.next \n",
    "        # temp2 = None\n",
    "        temp = self.head\n",
    "        while temp.next.data != data:\n",
    "            temp = temp.next\n",
    "        temp.next = temp.next.next\n",
    "\n",
    "\n",
    "\n",
    "# Display Linked List\n",
    "\n",
    "    def Display(self):\n",
    "        if self.head is None:\n",
    "            print(\"Circular Linked List is Empty!\")\n",
    "        else:\n",
    "            temp = self.head\n",
    "            print(temp.data,\"-->\",end = \" \")\n",
    "            while temp.next is not self.head:\n",
    "                temp = temp.next\n",
    "                print(temp.data,\"-->\",end = \" \")\n",
    "            print(temp.next.data)\n"
   ]
  },
  {
   "cell_type": "markdown",
   "id": "17503a04-abab-4d50-a22f-dff2fe1ad254",
   "metadata": {},
   "source": [
    "## Function Call"
   ]
  },
  {
   "cell_type": "code",
   "execution_count": 2,
   "id": "ce71dcff-b7d0-4a48-b502-3d3d1197d3f2",
   "metadata": {},
   "outputs": [
    {
     "name": "stdout",
     "output_type": "stream",
     "text": [
      "5 --> 10 --> 20 --> 36 --> 39 --> 40 --> 5\n"
     ]
    }
   ],
   "source": [
    "L = CircularLinkedList()\n",
    "\n",
    "n1 = Node(10)\n",
    "L.head = n1\n",
    "L.tail = n1\n",
    "L.tail.next = L.head\n",
    "\n",
    "n2 = Node(20)\n",
    "L.tail.next = n2\n",
    "L.tail = n2\n",
    "L.tail.next = L.head \n",
    "\n",
    "n3 = Node(30)\n",
    "L.tail.next = n3\n",
    "L.tail = n3\n",
    "L.tail.next = L.head\n",
    "\n",
    "# Insertion at the Begin\n",
    "L.Insertion_at_Begin(5)\n",
    "L.Insertion_at_Begin(1)\n",
    "\n",
    "# Insertion at the Ending\n",
    "L.Insertion_at_End(40)\n",
    "L.Insertion_at_End(50)\n",
    "\n",
    "# Insertion at the Specific Position\n",
    "L.Insertion_at_Specific_postion(30,36)\n",
    "L.Insertion_at_Specific_postion(36,39)\n",
    "\n",
    "# Deletion at Begin\n",
    "L.Deletion_at_Begin()\n",
    "\n",
    "# Deletion at End\n",
    "L.Deletion_at_End()\n",
    "\n",
    "# Deletion at the Specific Position\n",
    "L.Deletion_at_Specific_Position(30)\n",
    "\n",
    "# Display\n",
    "L.Display()\n",
    "\n"
   ]
  }
 ],
 "metadata": {
  "kernelspec": {
   "display_name": "Python 3 (ipykernel)",
   "language": "python",
   "name": "python3"
  },
  "language_info": {
   "codemirror_mode": {
    "name": "ipython",
    "version": 3
   },
   "file_extension": ".py",
   "mimetype": "text/x-python",
   "name": "python",
   "nbconvert_exporter": "python",
   "pygments_lexer": "ipython3",
   "version": "3.11.4"
  }
 },
 "nbformat": 4,
 "nbformat_minor": 5
}
