{
 "cells": [
  {
   "cell_type": "markdown",
   "id": "332bcaab-f423-494d-a672-b2275e823576",
   "metadata": {},
   "source": [
    "# Data Structure and Algorithm"
   ]
  },
  {
   "cell_type": "markdown",
   "id": "4ed01361-cfb1-4784-baf1-53e0a69f221c",
   "metadata": {},
   "source": [
    "### A data structure is a storage that is used to store and organize data. It is a way of arranging data on a computer so that it can be accessed and updated efficiently.\r\n",
    "\r\n"
   ]
  },
  {
   "cell_type": "markdown",
   "id": "9ca031d2-38a9-457c-8393-671b3b06a170",
   "metadata": {},
   "source": [
    "## Linked List Data Structure"
   ]
  },
  {
   "cell_type": "markdown",
   "id": "3dc95052-9280-45c0-951f-b0c598285ac0",
   "metadata": {},
   "source": [
    "#### A linked list is a type of linear data structure similar to arrays. It is a collection of nodes that are linked with each other. A node contains two things first is data and second is a link that connects it with another node. Below is an example of a linked list with four nodes and each node contains character data and a link to another node. Our first node is where head points and we can access all the elements of the linked list using the head."
   ]
  },
  {
   "attachments": {
    "696f1100-922d-469f-8c8b-19b95172cc49.png": {
     "image/png": "[encoded data removed]"
    }
   },
   "cell_type": "markdown",
   "id": "a1dc644b-f3e9-492f-acbe-59616e408f62",
   "metadata": {},
   "source": [
    "!![SLL.png](attachment:696f1100-922d-469f-8c8b-19b95172cc49.png)\r\n"
   ]
  },
  {
   "cell_type": "markdown",
   "id": "6fa68789-c48d-4841-8409-0cb72931e73f",
   "metadata": {},
   "source": [
    "# Single Linked List"
   ]
  },
  {
   "cell_type": "code",
   "execution_count": 29,
   "id": "026d5a0a-4c15-4e75-bda5-e69c68eae87e",
   "metadata": {},
   "outputs": [],
   "source": [
    "# Create a Node\n",
    "class Node:\n",
    "    def __init__(self,data):\n",
    "        self.data = data\n",
    "        self.next = None    # Address of the Next Node\n",
    "\n",
    "# Define head is None\n",
    "class SingleLinkedList:\n",
    "    def __init__(self):\n",
    "        self.head = None\n",
    "\n",
    "# Insertion at the Begining\n",
    "    def Insert_at_Begining(self,data):\n",
    "        nb = Node(data)\n",
    "        nb.next = self.head\n",
    "        self.head = nb\n",
    "\n",
    "# Insertion at the End\n",
    "    def Insert_at_End(self,data):\n",
    "        ne = Node(data)\n",
    "        temp = self.head\n",
    "        while temp.next != None:\n",
    "            temp = temp.next\n",
    "        temp.next = ne\n",
    "\n",
    "# Insertion at Specific Position\n",
    "    def Insert_at_Specific_Position(self,targetdata,data):\n",
    "        np = Node(data)\n",
    "        temp = self.head\n",
    "        while temp.data != targetdata:\n",
    "            temp = temp.next\n",
    "        np.next = temp.next\n",
    "        temp.next = np\n",
    "        \n",
    "# Deletion at the Begining\n",
    "    def Deletion_at_Begining(self):\n",
    "        self.head = self.head.next\n",
    "\n",
    "# Deletion at the End\n",
    "    def Deletion_at_End(self):\n",
    "        temp = self.head\n",
    "        while temp.next.next != None:\n",
    "            temp = temp.next\n",
    "        temp.next = None\n",
    "\n",
    "# Deletion at the Specific Position\n",
    "    def Deletion_at_Specific_Position(self,data):\n",
    "        temp = self.head\n",
    "        nd = Node(data)\n",
    "        while temp.next.data != data:\n",
    "            temp = temp.next\n",
    "        temp.next = temp.next.next\n",
    "    \n",
    "# Display Linked List\n",
    "    def display(self):\n",
    "        if self.head is None:\n",
    "            print(\"Linked List is Empty\")\n",
    "        else:\n",
    "            temp = self.head\n",
    "            while temp:\n",
    "                print(temp.data,\"-->\",end = \" \")\n",
    "                temp = temp.next"
   ]
  },
  {
   "cell_type": "markdown",
   "id": "795273b0-9c54-41fd-b4f5-6e49e88784e7",
   "metadata": {},
   "source": [
    "## Function Call"
   ]
  },
  {
   "cell_type": "code",
   "execution_count": 39,
   "id": "f584db18-ec31-4b65-8709-52ec7cf53cd1",
   "metadata": {},
   "outputs": [
    {
     "name": "stdout",
     "output_type": "stream",
     "text": [
      "5 --> 10 --> 20 --> 30 --> 40 --> "
     ]
    }
   ],
   "source": [
    "L = SingleLinkedList()\n",
    "# Insertion part ............\n",
    "\n",
    "n = Node(10)\n",
    "L.head = n\n",
    "n1 = Node(20)\n",
    "L.head.next = n1\n",
    "\n",
    "# Insertion at the Begining\n",
    "L.Insert_at_Begining(5)\n",
    "L.Insert_at_Begining(2)\n",
    "\n",
    "# Insertion at the Ending\n",
    "L.Insert_at_End(30)\n",
    "L.Insert_at_End(40)\n",
    "L.Insert_at_End(45)\n",
    "\n",
    "# Insertion at Specific Position\n",
    "L.Insert_at_Specific_Position(20,25)\n",
    "L.Insert_at_Specific_Position(10,15)\n",
    "\n",
    "\n",
    "# Deletion part ................\n",
    "\n",
    "# Deletion at the Begining\n",
    "L.Deletion_at_Begining()\n",
    "\n",
    "# Deletion at the End\n",
    "L.Deletion_at_End()\n",
    "\n",
    "# Deletion at Specific Data Position\n",
    "L.Deletion_at_Specific_Position(15)\n",
    "L.Deletion_at_Specific_Position(25)\n",
    "\n",
    "\n",
    "# Display \n",
    "L.display()"
   ]
  }
 ],
 "metadata": {
  "kernelspec": {
   "display_name": "Python 3 (ipykernel)",
   "language": "python",
   "name": "python3"
  },
  "language_info": {
   "codemirror_mode": {
    "name": "ipython",
    "version": 3
   },
   "file_extension": ".py",
   "mimetype": "text/x-python",
   "name": "python",
   "nbconvert_exporter": "python",
   "pygments_lexer": "ipython3",
   "version": "3.11.4"
  }
 },
 "nbformat": 4,
 "nbformat_minor": 5
}
