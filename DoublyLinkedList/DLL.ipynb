{
 "cells": [
  {
   "cell_type": "markdown",
   "id": "cb65cd83-0fc8-4d21-9d82-66427d4176c8",
   "metadata": {},
   "source": [
    "# Doubly Linked List "
   ]
  },
  {
   "cell_type": "markdown",
   "id": "5dd40e37-5594-4d58-bc20-fba73d5cec64",
   "metadata": {},
   "source": [
    "### A doubly linked list is a data structure used in computer science and programming. It consists of a sequence of elements, each of which contains a data value and two references or pointers, one pointing to the previous element in the list and another pointing to the next element in the list\r\n"
   ]
  },
  {
   "attachments": {
    "6529f9b0-cdcf-48f3-ba01-fa5d76775136.png": {
     "image/png": "[encoded data removed]"
    }
   },
   "cell_type": "markdown",
   "id": "da00dd4b-2064-4526-b6c2-e47c53f9dc43",
   "metadata": {},
   "source": [
    "![images (1).png](attachment:6529f9b0-cdcf-48f3-ba01-fa5d76775136.png)"
   ]
  },
  {
   "cell_type": "code",
   "execution_count": 5,
   "id": "59dfa6d7-d10b-4aea-8a16-9b31f7b9067a",
   "metadata": {},
   "outputs": [],
   "source": [
    "class Node:\n",
    "    def __init__(self,data):\n",
    "        self.data = data\n",
    "        self.prev = None # Address of the Previous Node\n",
    "        self.next = None # Address of the Next Node\n",
    "\n",
    "class DoublyLinkedList:\n",
    "    def __init__(self):\n",
    "        self.head = None\n",
    "\n",
    "# Insertion at Begining\n",
    "    def Insertion_at_Begin(self,data):\n",
    "        n = Node(data)\n",
    "        temp = self.head\n",
    "        n.next = temp\n",
    "        temp.prev = n\n",
    "        self.head = n\n",
    "        \n",
    "# Insertion at Ending\n",
    "    def Insertion_at_End(self,data):\n",
    "        n = Node(data)\n",
    "        temp = self.head\n",
    "        while temp.next is not None:\n",
    "            temp = temp.next\n",
    "        temp.next = n\n",
    "        n.prev = temp\n",
    "\n",
    "# Insertion at Specific Position\n",
    "    def Insertion_at_Specific_Position(self,target_data,data):\n",
    "        np = Node(data)\n",
    "        temp = self.head\n",
    "        while temp.data != target_data:\n",
    "            temp = temp.next\n",
    "        np.prev = temp\n",
    "        np.next = temp.next\n",
    "        np.next.prev = np\n",
    "        temp.next = np\n",
    "\n",
    "# Deletion at Begining\n",
    "\n",
    "    def Deletion_at_Begin(self):\n",
    "        temp = self.head\n",
    "        self.head = temp.next\n",
    "        temp.next = None\n",
    "        self.head.prev = None\n",
    "\n",
    "# Deletion at End\n",
    "\n",
    "    def Deletion_at_End(self):\n",
    "        temp = self.head.next\n",
    "        before = self.head\n",
    "        while temp.next is not None:\n",
    "            temp = temp.next\n",
    "            before = before.next\n",
    "        before.next = None\n",
    "        temp.prev = None\n",
    "            \n",
    "# Deletion at Specific Position\n",
    "\n",
    "    def Deletion_at_Specific_Position(self,data):\n",
    "        np = Node(data)\n",
    "        temp = self.head.next \n",
    "        before = self.head\n",
    "        while temp.data is not data:\n",
    "            temp = temp.next\n",
    "            before = before.next\n",
    "        before.next = temp.next\n",
    "        temp.next.prev = before\n",
    "        temp.prev = None\n",
    "        temp.next = None\n",
    "        \n",
    "\n",
    "# Display Linked List\n",
    "            \n",
    "    def Display(self):\n",
    "        if self.head is None:\n",
    "            print(\"Doubly Linked List is Empty\")\n",
    "        else:\n",
    "            temp = self.head\n",
    "            while temp:\n",
    "                print(temp.data,\"--><--\",end = \" \")\n",
    "                temp = temp.next\n",
    "                "
   ]
  },
  {
   "cell_type": "markdown",
   "id": "b2c1ac07-bd02-408a-a4ff-765cbbc06192",
   "metadata": {},
   "source": [
    "## Function Call"
   ]
  },
  {
   "cell_type": "code",
   "execution_count": 8,
   "id": "1d2c4f77-caba-400e-b2f8-75fe2c13b873",
   "metadata": {},
   "outputs": [
    {
     "name": "stdout",
     "output_type": "stream",
     "text": [
      "5 --><-- 10 --><-- 20 --><-- 50 --><-- 60 --><-- 65 --><-- "
     ]
    }
   ],
   "source": [
    "\n",
    "L = DoublyLinkedList()\n",
    "\n",
    "n1 = Node(10)\n",
    "L.head = n1\n",
    "n2 = Node(20)\n",
    "n2.prev = n1\n",
    "n1.next = n2\n",
    "n3 = Node(30)\n",
    "n3.prev = n2\n",
    "n2.next = n3\n",
    "n4 = Node(40)\n",
    "n4.prev = n3\n",
    "n3.next = n4\n",
    "\n",
    "# Insertion at the begining\n",
    "L.Insertion_at_Begin(5)\n",
    "L.Insertion_at_Begin(1)\n",
    "\n",
    "# Insertion at the Ending\n",
    "L.Insertion_at_End(50)\n",
    "L.Insertion_at_End(70)\n",
    "\n",
    "# Insertion_at_Specific_Position(50,60)\n",
    "L.Insertion_at_Specific_Position(50,60)\n",
    "L.Insertion_at_Specific_Position(60,65)\n",
    "\n",
    "# Deletion at the Begining\n",
    "L.Deletion_at_Begin()\n",
    "\n",
    "# Deletion at the Ending\n",
    "L.Deletion_at_End()\n",
    "\n",
    "# Deletion at the Specific Position\n",
    "L.Deletion_at_Specific_Position(40)\n",
    "L.Deletion_at_Specific_Position(30)\n",
    "\n",
    "# Display \n",
    "L.Display()\n"
   ]
  }
 ],
 "metadata": {
  "kernelspec": {
   "display_name": "Python 3 (ipykernel)",
   "language": "python",
   "name": "python3"
  },
  "language_info": {
   "codemirror_mode": {
    "name": "ipython",
    "version": 3
   },
   "file_extension": ".py",
   "mimetype": "text/x-python",
   "name": "python",
   "nbconvert_exporter": "python",
   "pygments_lexer": "ipython3",
   "version": "3.11.4"
  }
 },
 "nbformat": 4,
 "nbformat_minor": 5
}
